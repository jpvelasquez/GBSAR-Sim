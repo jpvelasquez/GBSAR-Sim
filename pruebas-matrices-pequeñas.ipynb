{
 "cells": [
  {
   "cell_type": "code",
   "execution_count": 5,
   "id": "9c35eb39",
   "metadata": {},
   "outputs": [],
   "source": [
    "import numpy as np\n",
    "import matplotlib.pyplot as plt"
   ]
  },
  {
   "cell_type": "code",
   "execution_count": 6,
   "id": "6a920d8f",
   "metadata": {},
   "outputs": [
    {
     "name": "stdout",
     "output_type": "stream",
     "text": [
      "[[ 1  2  3  4  5  6  7  8]\n",
      " [ 7  8  9 10 11 12  8  9]\n",
      " [13 14 15 16 17 18 10 11]\n",
      " [19 20 21 22 23 24 12 13]\n",
      " [25 26 27 28 29 30 14 15]\n",
      " [31 32 33 34 35 36 26 27]\n",
      " [37 38 39 40 41 42 18 19]\n",
      " [43 44 45 46 47 48 20 21]]\n"
     ]
    }
   ],
   "source": [
    "mat = np.array([[1,2,3,4,5,6,7,8],[7,8,9,10,11,12,8,9],\n",
    "               [13,14,15,16,17,18,10,11],[19,20,21,22,23,24,12,13],\n",
    "               [25,26,27,28,29,30,14,15],[31,32,33,34,35,36,26,27],\n",
    "               [37,38,39,40,41,42,18,19],[43,44,45,46,47,48,20,21]])\n",
    "fils,cols = mat.shape\n",
    "#print(fils,cols)\n",
    "print(mat)"
   ]
  },
  {
   "cell_type": "code",
   "execution_count": 7,
   "id": "bbdab2f4",
   "metadata": {},
   "outputs": [
    {
     "name": "stdout",
     "output_type": "stream",
     "text": [
      "4 4\n",
      "[1 3 4 5] [0 1 6 7]\n"
     ]
    },
    {
     "data": {
      "text/plain": [
       "array([[ 7,  8,  9, 10, 11, 12,  8,  9],\n",
       "       [19, 20, 21, 22, 23, 24, 12, 13],\n",
       "       [25, 26, 27, 28, 29, 30, 14, 15],\n",
       "       [31, 32, 33, 34, 35, 36, 26, 27]])"
      ]
     },
     "execution_count": 7,
     "metadata": {},
     "output_type": "execute_result"
    }
   ],
   "source": [
    "factor = 1/2#(25)**(1/2)/100\n",
    "fils_aux = int(factor*fils)\n",
    "cols_aux = int(factor*cols)\n",
    "print(fils_aux,cols_aux)\n",
    "fils_rand = np.sort(np.random.choice(fils, fils_aux, replace=False))\n",
    "cols_rand = np.sort(np.random.choice(cols, cols_aux, replace=False))\n",
    "#print(mat[fils_rand,cols_rand])\n",
    "print(fils_rand,cols_rand)\n",
    "mat1 = mat[fils_rand,:]#:,cols_rand]\n",
    "mat1"
   ]
  },
  {
   "cell_type": "code",
   "execution_count": 8,
   "id": "5659cd76",
   "metadata": {},
   "outputs": [
    {
     "data": {
      "text/plain": [
       "array([[ 7,  8,  8,  9],\n",
       "       [19, 20, 12, 13],\n",
       "       [25, 26, 14, 15],\n",
       "       [31, 32, 26, 27]])"
      ]
     },
     "execution_count": 8,
     "metadata": {},
     "output_type": "execute_result"
    }
   ],
   "source": [
    "#mat[fils_rand,cols_rand]\n",
    "mat2 = mat1[:,cols_rand]\n",
    "mat2\n"
   ]
  },
  {
   "cell_type": "code",
   "execution_count": 9,
   "id": "47efeaac",
   "metadata": {},
   "outputs": [
    {
     "name": "stdout",
     "output_type": "stream",
     "text": [
      "(4, 4) (8, 8)\n"
     ]
    }
   ],
   "source": [
    "print(mat2.shape,mat.shape)"
   ]
  },
  {
   "cell_type": "code",
   "execution_count": 10,
   "id": "c530641d",
   "metadata": {},
   "outputs": [
    {
     "ename": "NameError",
     "evalue": "name 'Nf' is not defined",
     "output_type": "error",
     "traceback": [
      "\u001b[0;31m---------------------------------------------------------------------------\u001b[0m",
      "\u001b[0;31mNameError\u001b[0m                                 Traceback (most recent call last)",
      "\u001b[0;32m/tmp/ipykernel_5373/2226969526.py\u001b[0m in \u001b[0;36m<module>\u001b[0;34m\u001b[0m\n\u001b[1;32m      3\u001b[0m \u001b[0;32mfor\u001b[0m \u001b[0mpp\u001b[0m \u001b[0;32min\u001b[0m \u001b[0mper_ar\u001b[0m\u001b[0;34m:\u001b[0m\u001b[0;34m\u001b[0m\u001b[0;34m\u001b[0m\u001b[0m\n\u001b[1;32m      4\u001b[0m     \u001b[0mpp_aux\u001b[0m \u001b[0;34m=\u001b[0m \u001b[0mpp\u001b[0m\u001b[0;34m**\u001b[0m\u001b[0;34m(\u001b[0m\u001b[0;36m0.5\u001b[0m\u001b[0;34m)\u001b[0m\u001b[0;34m\u001b[0m\u001b[0;34m\u001b[0m\u001b[0m\n\u001b[0;32m----> 5\u001b[0;31m     \u001b[0mnf\u001b[0m \u001b[0;34m=\u001b[0m \u001b[0mint\u001b[0m\u001b[0;34m(\u001b[0m\u001b[0mNf\u001b[0m\u001b[0;34m*\u001b[0m\u001b[0mpp_aux\u001b[0m\u001b[0;34m)\u001b[0m\u001b[0;34m\u001b[0m\u001b[0;34m\u001b[0m\u001b[0m\n\u001b[0m\u001b[1;32m      6\u001b[0m     \u001b[0mnpp\u001b[0m \u001b[0;34m=\u001b[0m \u001b[0mint\u001b[0m\u001b[0;34m(\u001b[0m\u001b[0mNp\u001b[0m\u001b[0;34m*\u001b[0m\u001b[0mpp_aux\u001b[0m\u001b[0;34m)\u001b[0m\u001b[0;34m\u001b[0m\u001b[0;34m\u001b[0m\u001b[0m\n\u001b[1;32m      7\u001b[0m     \u001b[0mprint\u001b[0m\u001b[0;34m(\u001b[0m\u001b[0mpp\u001b[0m\u001b[0;34m,\u001b[0m \u001b[0mpp_aux\u001b[0m\u001b[0;34m,\u001b[0m \u001b[0;34m(\u001b[0m\u001b[0mnf\u001b[0m\u001b[0;34m*\u001b[0m\u001b[0mnpp\u001b[0m\u001b[0;34m)\u001b[0m\u001b[0;34m/\u001b[0m\u001b[0;34m(\u001b[0m\u001b[0mNf\u001b[0m\u001b[0;34m*\u001b[0m\u001b[0mNp\u001b[0m\u001b[0;34m)\u001b[0m\u001b[0;34m)\u001b[0m\u001b[0;34m\u001b[0m\u001b[0;34m\u001b[0m\u001b[0m\n",
      "\u001b[0;31mNameError\u001b[0m: name 'Nf' is not defined"
     ]
    }
   ],
   "source": [
    "per_ar = np.linspace(5,100,20)#/2\n",
    "#print((freq_ar/2))#.astype(int))\n",
    "for pp in per_ar:\n",
    "    pp_aux = pp**(0.5)\n",
    "    nf = int(Nf*pp_aux)\n",
    "    npp = int(Np*pp_aux)\n",
    "    print(pp, pp_aux, (nf*npp)/(Nf*Np))"
   ]
  },
  {
   "cell_type": "code",
   "execution_count": null,
   "id": "6246bec3",
   "metadata": {},
   "outputs": [],
   "source": []
  },
  {
   "cell_type": "code",
   "execution_count": null,
   "id": "5a53f37f",
   "metadata": {},
   "outputs": [],
   "source": []
  }
 ],
 "metadata": {
  "kernelspec": {
   "display_name": "Python 3 (ipykernel)",
   "language": "python",
   "name": "python3"
  },
  "language_info": {
   "codemirror_mode": {
    "name": "ipython",
    "version": 3
   },
   "file_extension": ".py",
   "mimetype": "text/x-python",
   "name": "python",
   "nbconvert_exporter": "python",
   "pygments_lexer": "ipython3",
   "version": "3.10.12"
  }
 },
 "nbformat": 4,
 "nbformat_minor": 5
}
